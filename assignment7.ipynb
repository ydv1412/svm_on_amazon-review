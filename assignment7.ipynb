{
 "cells": [
  {
   "cell_type": "code",
   "execution_count": 27,
   "metadata": {},
   "outputs": [],
   "source": [
    "import pandas as pd\n",
    "from sklearn.feature_extraction.text import CountVectorizer\n",
    "from sklearn.feature_extraction.text import TfidfVectorizer\n",
    "from sklearn.model_selection import train_test_split\n",
    "from sklearn.linear_model import SGDClassifier\n",
    "from sklearn.calibration import CalibratedClassifierCV\n",
    "from sklearn.metrics import roc_auc_score\n",
    "from sklearn.metrics import roc_curve\n",
    "import matplotlib.pyplot as plt\n",
    "import sqlite3\n",
    "import numpy as np"
   ]
  },
  {
   "cell_type": "code",
   "execution_count": 138,
   "metadata": {},
   "outputs": [],
   "source": [
    "from sklearn.svm import SVC\n",
    "from sklearn.metrics import plot_confusion_matrix\n",
    "from sklearn.model_selection import GridSearchCV\n",
    "from sklearn.preprocessing import normalize"
   ]
  },
  {
   "cell_type": "code",
   "execution_count": 6,
   "metadata": {},
   "outputs": [],
   "source": [
    "conn = sqlite3.connect(\"../amazon-fine-food-review/final_2.sqlite\")\n",
    "d_f = pd.read_sql_query(\"SELECT * FROM Reviews\",conn)"
   ]
  },
  {
   "cell_type": "code",
   "execution_count": 117,
   "metadata": {},
   "outputs": [],
   "source": [
    "x = d_f[\"Cleaned_text\"]\n",
    "y = d_f[\"Score\"]"
   ]
  },
  {
   "cell_type": "code",
   "execution_count": 118,
   "metadata": {},
   "outputs": [
    {
     "name": "stdout",
     "output_type": "stream",
     "text": [
      "(3490,)\n",
      "(1496,)\n",
      "(3490,)\n",
      "(1496,)\n"
     ]
    }
   ],
   "source": [
    "x_train , x_test , y_train , y_test = train_test_split(x, y ,test_size = 0.3)\n",
    "print(x_train.shape)\n",
    "print(x_test.shape)\n",
    "print(y_train.shape)\n",
    "print(y_test.shape)"
   ]
  },
  {
   "cell_type": "code",
   "execution_count": 119,
   "metadata": {},
   "outputs": [],
   "source": [
    "#### vectorizing using count vectorizer\n",
    "\n",
    "model = CountVectorizer(min_df = 5)\n",
    "x_train = model.fit_transform(x_train)\n",
    "x_test = model.transform(x_test)"
   ]
  },
  {
   "cell_type": "code",
   "execution_count": 120,
   "metadata": {
    "scrolled": true
   },
   "outputs": [
    {
     "name": "stdout",
     "output_type": "stream",
     "text": [
      "(3490, 2902)\n",
      "(1496, 2902)\n"
     ]
    }
   ],
   "source": [
    "print(x_train.shape)\n",
    "print(x_test.shape)"
   ]
  },
  {
   "cell_type": "code",
   "execution_count": 42,
   "metadata": {},
   "outputs": [
    {
     "data": {
      "text/plain": [
       "CalibratedClassifierCV(base_estimator=SGDClassifier(), cv=10)"
      ]
     },
     "execution_count": 42,
     "metadata": {},
     "output_type": "execute_result"
    }
   ],
   "source": [
    "##### using SGDClassifier for hinge loss\n",
    "\n",
    "clf_model = SGDClassifier(loss = 'hinge')                   ### it is more efficient then SVMCLassiier\n",
    "caliberated_model = CalibratedClassifierCV(base_estimator = clf_model , cv= 10 )     ### this will caliberate the parameters of classifief automatically\n",
    "caliberated_model.fit(x_train , y_train)"
   ]
  },
  {
   "cell_type": "code",
   "execution_count": 43,
   "metadata": {},
   "outputs": [],
   "source": [
    "predicted_y = caliberated_model.predict(x_test)"
   ]
  },
  {
   "cell_type": "code",
   "execution_count": 44,
   "metadata": {},
   "outputs": [
    {
     "name": "stdout",
     "output_type": "stream",
     "text": [
      "ROC auc score is 0.691333\n"
     ]
    }
   ],
   "source": [
    "roc_score = roc_auc_score(y_test , predicted_y)\n",
    "print(\"ROC auc score is %f\" %(roc_score))"
   ]
  },
  {
   "cell_type": "code",
   "execution_count": 45,
   "metadata": {},
   "outputs": [
    {
     "data": {
      "text/plain": [
       "[<matplotlib.lines.Line2D at 0x1dd4c4e1f40>]"
      ]
     },
     "execution_count": 45,
     "metadata": {},
     "output_type": "execute_result"
    },
    {
     "data": {
      "image/png": "[encoded data removed]",
      "text/plain": [
       "<Figure size 432x288 with 1 Axes>"
      ]
     },
     "metadata": {
      "needs_background": "light"
     },
     "output_type": "display_data"
    }
   ],
   "source": [
    "roc_fpr , roc_tpr ,_= roc_curve(y_test , predicted_y)\n",
    "plt.plot(roc_fpr , roc_tpr , marker = '_' ,label = 'logistic')"
   ]
  },
  {
   "cell_type": "code",
   "execution_count": 28,
   "metadata": {},
   "outputs": [
    {
     "name": "stdout",
     "output_type": "stream",
     "text": [
      "83\n",
      "1413\n"
     ]
    }
   ],
   "source": [
    "print(np.count_nonzero(predicted_y==0))\n",
    "print(np.count_nonzero(predicted_y==1))"
   ]
  },
  {
   "cell_type": "code",
   "execution_count": 64,
   "metadata": {},
   "outputs": [
    {
     "name": "stdout",
     "output_type": "stream",
     "text": [
      "(3490, 2905)\n",
      "(1496, 2905)\n"
     ]
    }
   ],
   "source": [
    "print(x_train.shape)\n",
    "print(x_test.shape)"
   ]
  },
  {
   "cell_type": "code",
   "execution_count": 70,
   "metadata": {},
   "outputs": [
    {
     "data": {
      "text/plain": [
       "<1x2905 sparse matrix of type '<class 'numpy.int64'>'\n",
       "\twith 21 stored elements in Compressed Sparse Row format>"
      ]
     },
     "execution_count": 70,
     "metadata": {},
     "output_type": "execute_result"
    }
   ],
   "source": [
    "x_train[0]"
   ]
  },
  {
   "cell_type": "code",
   "execution_count": 77,
   "metadata": {},
   "outputs": [
    {
     "name": "stdout",
     "output_type": "stream",
     "text": [
      "ROC AUC score is 0.779449\n"
     ]
    },
    {
     "data": {
      "text/plain": [
       "<sklearn.metrics._plot.confusion_matrix.ConfusionMatrixDisplay at 0x1dd4c42f190>"
      ]
     },
     "execution_count": 77,
     "metadata": {},
     "output_type": "execute_result"
    },
    {
     "data": {
      "image/png": "[encoded data removed]",
      "text/plain": [
       "<Figure size 432x288 with 1 Axes>"
      ]
     },
     "metadata": {
      "needs_background": "light"
     },
     "output_type": "display_data"
    },
    {
     "data": {
      "image/png": "[encoded data removed]",
      "text/plain": [
       "<Figure size 432x288 with 2 Axes>"
      ]
     },
     "metadata": {
      "needs_background": "light"
     },
     "output_type": "display_data"
    }
   ],
   "source": [
    "### performing kernel svc on bow\n",
    "\n",
    "clf_model = SVC(kernel = 'linear' , C = 1 )\n",
    "clf_model.fit(x_train , y_train)\n",
    "predicted_y = clf_model.predict(x_test)\n",
    "roc_score = roc_auc_score(y_test , predicted_y)\n",
    "print(\"ROC AUC score is %f\"%(roc_score))\n",
    "roc_fpr , roc_tpr,_ = roc_curve(y_test , predicted_y)\n",
    "plt.plot(roc_fpr , roc_tpr , marker = \"_\" )\n",
    "plot_confusion_matrix(clf_model , x_test , y_test , normalize = 'true')"
   ]
  },
  {
   "cell_type": "code",
   "execution_count": 72,
   "metadata": {},
   "outputs": [
    {
     "name": "stdout",
     "output_type": "stream",
     "text": [
      "235\n",
      "1261\n"
     ]
    }
   ],
   "source": [
    "print(np.count_nonzero(predicted_y==0))\n",
    "print(np.count_nonzero(predicted_y==1))"
   ]
  },
  {
   "cell_type": "code",
   "execution_count": 78,
   "metadata": {},
   "outputs": [
    {
     "name": "stdout",
     "output_type": "stream",
     "text": [
      "ROC AUC score is 0.782178\n"
     ]
    },
    {
     "data": {
      "text/plain": [
       "<sklearn.metrics._plot.confusion_matrix.ConfusionMatrixDisplay at 0x1dd506c7dc0>"
      ]
     },
     "execution_count": 78,
     "metadata": {},
     "output_type": "execute_result"
    },
    {
     "data": {
      "image/png": "[encoded data removed]",
      "text/plain": [
       "<Figure size 432x288 with 1 Axes>"
      ]
     },
     "metadata": {
      "needs_background": "light"
     },
     "output_type": "display_data"
    },
    {
     "data": {
      "image/png": "[encoded data removed]",
      "text/plain": [
       "<Figure size 432x288 with 2 Axes>"
      ]
     },
     "metadata": {
      "needs_background": "light"
     },
     "output_type": "display_data"
    }
   ],
   "source": [
    "### performing kernel svc on bow at C==10\n",
    "\n",
    "clf_model = SVC(kernel = 'linear' , C = 10 )\n",
    "clf_model.fit(x_train , y_train)\n",
    "predicted_y = clf_model.predict(x_test)\n",
    "roc_score = roc_auc_score(y_test , predicted_y)\n",
    "print(\"ROC AUC score is %f\"%(roc_score))\n",
    "roc_fpr , roc_tpr,_ = roc_curve(y_test , predicted_y)\n",
    "plt.plot(roc_fpr , roc_tpr , marker = \"_\" )\n",
    "plot_confusion_matrix(clf_model , x_test , y_test , normalize = 'true')"
   ]
  },
  {
   "cell_type": "code",
   "execution_count": 79,
   "metadata": {},
   "outputs": [
    {
     "name": "stdout",
     "output_type": "stream",
     "text": [
      "ROC AUC score is 0.758416\n"
     ]
    },
    {
     "data": {
      "text/plain": [
       "<sklearn.metrics._plot.confusion_matrix.ConfusionMatrixDisplay at 0x1dd50629b80>"
      ]
     },
     "execution_count": 79,
     "metadata": {},
     "output_type": "execute_result"
    },
    {
     "data": {
      "image/png": "[encoded data removed]",
      "text/plain": [
       "<Figure size 432x288 with 1 Axes>"
      ]
     },
     "metadata": {
      "needs_background": "light"
     },
     "output_type": "display_data"
    },
    {
     "data": {
      "image/png": "[encoded data removed]",
      "text/plain": [
       "<Figure size 432x288 with 2 Axes>"
      ]
     },
     "metadata": {
      "needs_background": "light"
     },
     "output_type": "display_data"
    }
   ],
   "source": [
    "### performing kernel svc on bow C = = 0.1\n",
    "\n",
    "clf_model = SVC(kernel = 'linear' , C = 0.1 )\n",
    "clf_model.fit(x_train , y_train)\n",
    "predicted_y = clf_model.predict(x_test)\n",
    "roc_score = roc_auc_score(y_test , predicted_y)\n",
    "print(\"ROC AUC score is %f\"%(roc_score))\n",
    "roc_fpr , roc_tpr,_ = roc_curve(y_test , predicted_y)\n",
    "plt.plot(roc_fpr , roc_tpr , marker = \"_\" )\n",
    "plot_confusion_matrix(clf_model , x_test , y_test , normalize = 'true')"
   ]
  },
  {
   "cell_type": "code",
   "execution_count": 90,
   "metadata": {},
   "outputs": [],
   "source": [
    "### performing grid search for best C on linear kernel and finding optimal C\n",
    "\n",
    "c_list = [0.1 , 1 , 10 ,100 ]\n",
    "roc = []\n",
    "for i in c_list:\n",
    "    clf_model = SVC(kernel = 'linear' , C = i )\n",
    "    clf_model.fit(x_train , y_train)\n",
    "    predicted_y = clf_model.predict(x_test)\n",
    "    roc_score = roc_auc_score(y_test , predicted_y)\n",
    "    roc.append(roc_score)\n",
    "    ##roc_fpr , roc_tpr,_ = roc_curve(y_test , predicted_y)\n",
    "    ##plt.plot(roc_fpr , roc_tpr , marker = \"_\" )\n",
    "    ##plot_confusion_matrix(clf_model , x_test , y_test , normalize = 'true')\n",
    "    "
   ]
  },
  {
   "cell_type": "code",
   "execution_count": 91,
   "metadata": {},
   "outputs": [
    {
     "data": {
      "text/plain": [
       "Text(0, 0.5, 'roc values')"
      ]
     },
     "execution_count": 91,
     "metadata": {},
     "output_type": "execute_result"
    },
    {
     "data": {
      "image/png": "[encoded data removed]",
      "text/plain": [
       "<Figure size 432x288 with 1 Axes>"
      ]
     },
     "metadata": {
      "needs_background": "light"
     },
     "output_type": "display_data"
    }
   ],
   "source": [
    "plt.plot(c_list , roc , label = \"optimal_C\" ,marker = \"*\")\n",
    "plt.xlabel(\"C values \")\n",
    "plt.ylabel(\"roc values\")"
   ]
  },
  {
   "cell_type": "code",
   "execution_count": 100,
   "metadata": {},
   "outputs": [],
   "source": [
    "for i in range(1,len(roc)):\n",
    "    if(roc[i]>roc[i-1]):\n",
    "        optimal_c = i\n",
    "    "
   ]
  },
  {
   "cell_type": "code",
   "execution_count": 103,
   "metadata": {},
   "outputs": [
    {
     "name": "stdout",
     "output_type": "stream",
     "text": [
      "ROC auc value 0.782178\n"
     ]
    },
    {
     "data": {
      "text/plain": [
       "<sklearn.metrics._plot.confusion_matrix.ConfusionMatrixDisplay at 0x1dd50df4460>"
      ]
     },
     "execution_count": 103,
     "metadata": {},
     "output_type": "execute_result"
    },
    {
     "data": {
      "image/png": "[encoded data removed]",
      "text/plain": [
       "<Figure size 432x288 with 1 Axes>"
      ]
     },
     "metadata": {
      "needs_background": "light"
     },
     "output_type": "display_data"
    },
    {
     "data": {
      "image/png": "[encoded data removed]",
      "text/plain": [
       "<Figure size 432x288 with 2 Axes>"
      ]
     },
     "metadata": {
      "needs_background": "light"
     },
     "output_type": "display_data"
    }
   ],
   "source": [
    "### as we can see tha tthe auc value at c = 10 is maximum so we should train our model on c = 10\n",
    "\n",
    "clf_model = SVC(C = c_list[optimal_c] , kernel = 'linear')\n",
    "clf_model.fit(x_train , y_train)\n",
    "predicted_y = clf_model.predict(x_test)\n",
    "roc_score = roc_auc_score(y_test , predicted_y)\n",
    "print(\"ROC auc value %f\"%(roc_score))\n",
    "roc_fpr , roc_tpr,_ = roc_curve(y_test , predicted_y)\n",
    "plt.plot(roc_fpr , roc_tpr , marker = \"_\" )\n",
    "plot_confusion_matrix(clf_model , x_test , y_test , normalize = 'true')"
   ]
  },
  {
   "cell_type": "raw",
   "metadata": {},
   "source": [
    "##3 creating cv data set\n",
    "\n",
    "x_train , x_cv , y_train , y_cv = train_test_split(x_train , y_train , test_size = 0.2)\n",
    "print(x_train.shape)\n",
    "print(x_cv.shape)\n",
    "print(y_train.shape)\n",
    "print(y_cv.shape)"
   ]
  },
  {
   "cell_type": "code",
   "execution_count": 109,
   "metadata": {},
   "outputs": [],
   "source": [
    "### now performing rbf kernel\n",
    "roc_scores = []\n",
    "gama_list = [0.01 , 0.1 , 1 , 10]\n",
    "c_list = [0.1 , 1, 10]\n",
    "for i in c_list:\n",
    "    rows = []\n",
    "    for j in gama_list:\n",
    "        clf_model = SVC(kernel = 'rbf' ,C = i , gamma = j)\n",
    "        clf_model.fit(x_train , y_train)\n",
    "        predicted_cv = clf_model.predict(x_cv)\n",
    "        score = roc_auc_score(y_cv , predicted_cv)\n",
    "        rows.append(score)\n",
    "        \n",
    "    roc_scores.append(rows)"
   ]
  },
  {
   "cell_type": "raw",
   "metadata": {},
   "source": [
    "roc_scores"
   ]
  },
  {
   "cell_type": "raw",
   "metadata": {},
   "source": [
    "### now performing rbf kernel\n",
    "roc_scores = []\n",
    "gama_list = [0.01 , 0.1 , 1 , 10]\n",
    "c_list = [0.1 , 1, 10]\n",
    "for i in c_list:\n",
    "    clf_model = SVC(kernel = 'rbf' ,C = i)\n",
    "    clf_model.fit(x_train , y_train)\n",
    "    predicted_cv = clf_model.predict(x_cv)\n",
    "    score = roc_auc_score(y_cv , predicted_cv)        \n",
    "    roc_scores.append(score)"
   ]
  },
  {
   "cell_type": "raw",
   "metadata": {},
   "source": [
    "roc_scores"
   ]
  },
  {
   "cell_type": "code",
   "execution_count": 122,
   "metadata": {},
   "outputs": [
    {
     "data": {
      "text/plain": [
       "GridSearchCV(cv=3, estimator=SVC(),\n",
       "             param_grid=[{'C': [1, 10, 100], 'gamma': [0.001, 0.0001],\n",
       "                          'kernel': ['rbf']}])"
      ]
     },
     "execution_count": 122,
     "metadata": {},
     "output_type": "execute_result"
    }
   ],
   "source": [
    "### GridSearchCV()\n",
    "tuned_parameters = [{'kernel':[\"rbf\"] , \"C\":[1,10,100] , \"gamma\":[1e-3, 1e-4]}]\n",
    "clf_model = GridSearchCV(SVC(),tuned_parameters , cv = 3)\n",
    "clf_model.fit(x_train , y_train)"
   ]
  },
  {
   "cell_type": "code",
   "execution_count": 123,
   "metadata": {},
   "outputs": [
    {
     "data": {
      "text/plain": [
       "{'C': 100, 'gamma': 0.001, 'kernel': 'rbf'}"
      ]
     },
     "execution_count": 123,
     "metadata": {},
     "output_type": "execute_result"
    }
   ],
   "source": [
    "clf_model.best_params_"
   ]
  },
  {
   "cell_type": "code",
   "execution_count": 127,
   "metadata": {},
   "outputs": [
    {
     "name": "stdout",
     "output_type": "stream",
     "text": [
      "ROC AUC score is 0.727016 \n"
     ]
    },
    {
     "data": {
      "image/png": "[encoded data removed]",
      "text/plain": [
       "<Figure size 432x288 with 1 Axes>"
      ]
     },
     "metadata": {
      "needs_background": "light"
     },
     "output_type": "display_data"
    },
    {
     "data": {
      "image/png": "[encoded data removed]",
      "text/plain": [
       "<Figure size 432x288 with 2 Axes>"
      ]
     },
     "metadata": {
      "needs_background": "light"
     },
     "output_type": "display_data"
    }
   ],
   "source": [
    "clf_model = SVC(C= 100 , kernel = 'rbf' , gamma = 0.001)\n",
    "clf_model.fit(x_train,y_train)\n",
    "predicted_y = clf_model.predict(x_test)\n",
    "score = roc_auc_score(y_test , predicted_y)\n",
    "roc_fpr , roc_trf , _ = roc_curve(y_test , predicted_y)\n",
    "plt.plot(roc_fpr , roc_tpr , marker = \"_\" , label = \"dfd\")\n",
    "plot_confusion_matrix(clf_model , x_test , y_test , normalize = 'true')\n",
    "print(\"ROC AUC score is %f \" %(score))"
   ]
  },
  {
   "cell_type": "code",
   "execution_count": 128,
   "metadata": {},
   "outputs": [
    {
     "name": "stdout",
     "output_type": "stream",
     "text": [
      "187\n",
      "1309\n"
     ]
    }
   ],
   "source": [
    "print(np.count_nonzero(predicted_y == 0))\n",
    "print(np.count_nonzero(predicted_y == 1))"
   ]
  },
  {
   "cell_type": "code",
   "execution_count": 134,
   "metadata": {},
   "outputs": [
    {
     "name": "stdout",
     "output_type": "stream",
     "text": [
      "(3490,)\n",
      "(1496,)\n",
      "(3490,)\n",
      "(1496,)\n"
     ]
    }
   ],
   "source": [
    "##### TFIDFVECTORIZER\n",
    "\n",
    "x = d_f[\"Cleaned_text\"]\n",
    "y = d_f[\"Score\"]\n",
    "x_train , x_test , y_train , y_test = train_test_split( x , y , test_size = 0.3)\n",
    "print(x_train.shape)\n",
    "print(x_test.shape)\n",
    "print(y_train.shape)\n",
    "print(y_test.shape)"
   ]
  },
  {
   "cell_type": "code",
   "execution_count": 136,
   "metadata": {},
   "outputs": [],
   "source": [
    "model = TfidfVectorizer(encoding = 'utf-8' , min_df = 5 )\n",
    "x_train = model.fit_transform(x_train)\n",
    "x_test = model.transform(x_test)"
   ]
  },
  {
   "cell_type": "code",
   "execution_count": 139,
   "metadata": {},
   "outputs": [],
   "source": [
    "### normalize\n",
    "\n",
    "x_train = normalize(x_train , axis = 1 , norm = 'l2')\n",
    "x_test = normalize(x_test , axis = 1 , norm = 'l2')"
   ]
  },
  {
   "cell_type": "code",
   "execution_count": 141,
   "metadata": {},
   "outputs": [
    {
     "data": {
      "text/plain": [
       "GridSearchCV(cv=3, estimator=SVC(),\n",
       "             param_grid=[{'C': [1, 10, 100], 'kernel': ['linear']}])"
      ]
     },
     "execution_count": 141,
     "metadata": {},
     "output_type": "execute_result"
    }
   ],
   "source": [
    "## performing gridsearchcv for c on svc\n",
    "tuned_parameters = [{'kernel':['linear'], 'C' : [1,10,100]}]\n",
    "clf_model = GridSearchCV(SVC(),tuned_parameters, cv = 3)\n",
    "clf_model.fit(x_train , y_train)\n"
   ]
  },
  {
   "cell_type": "code",
   "execution_count": 144,
   "metadata": {},
   "outputs": [
    {
     "data": {
      "text/plain": [
       "{'C': 1, 'kernel': 'linear'}"
      ]
     },
     "execution_count": 144,
     "metadata": {},
     "output_type": "execute_result"
    }
   ],
   "source": [
    "clf_model.best_params_"
   ]
  },
  {
   "cell_type": "code",
   "execution_count": 149,
   "metadata": {},
   "outputs": [
    {
     "name": "stdout",
     "output_type": "stream",
     "text": [
      "score is 0.713499\n"
     ]
    },
    {
     "data": {
      "text/plain": [
       "<sklearn.metrics._plot.confusion_matrix.ConfusionMatrixDisplay at 0x1dd522699d0>"
      ]
     },
     "execution_count": 149,
     "metadata": {},
     "output_type": "execute_result"
    },
    {
     "data": {
      "image/png": "[encoded data removed]",
      "text/plain": [
       "<Figure size 432x288 with 1 Axes>"
      ]
     },
     "metadata": {
      "needs_background": "light"
     },
     "output_type": "display_data"
    },
    {
     "data": {
      "image/png": "[encoded data removed]",
      "text/plain": [
       "<Figure size 432x288 with 2 Axes>"
      ]
     },
     "metadata": {
      "needs_background": "light"
     },
     "output_type": "display_data"
    }
   ],
   "source": [
    "clf_model = SVC(kernel = \"linear\" , C=1 )\n",
    "clf_model.fit(x_train , y_train)\n",
    "predicted_y = clf_model.predict(x_test)\n",
    "score = roc_auc_score(y_test ,predicted_y)\n",
    "print(\"score is %f\" %(score))\n",
    "roc_fpr , roc_tpr , _ = roc_curve(y_test , predicted_y)\n",
    "plt.plot(roc_fpr , roc_tpr , marker = \"_\")\n",
    "plot_confusion_matrix(clf_model , x_test ,y_test ,normalize = 'true')"
   ]
  },
  {
   "cell_type": "code",
   "execution_count": null,
   "metadata": {},
   "outputs": [],
   "source": []
  }
 ],
 "metadata": {
  "kernelspec": {
   "display_name": "Python 3",
   "language": "python",
   "name": "python3"
  },
  "language_info": {
   "codemirror_mode": {
    "name": "ipython",
    "version": 3
   },
   "file_extension": ".py",
   "mimetype": "text/x-python",
   "name": "python",
   "nbconvert_exporter": "python",
   "pygments_lexer": "ipython3",
   "version": "3.8.5"
  }
 },
 "nbformat": 4,
 "nbformat_minor": 4
}
